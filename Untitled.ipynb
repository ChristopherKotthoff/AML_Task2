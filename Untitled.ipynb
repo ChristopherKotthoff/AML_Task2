{
 "cells": [
  {
   "cell_type": "code",
   "execution_count": 1,
   "id": "d59a3092-d500-48e4-ab27-c752fba8faca",
   "metadata": {},
   "outputs": [],
   "source": [
    "import pywt"
   ]
  },
  {
   "cell_type": "code",
   "execution_count": 2,
   "id": "52d615ae-3f89-4d1a-9929-211082a266ae",
   "metadata": {},
   "outputs": [],
   "source": [
    "cA, cD = pywt.dwt([1, 2, 3, 4], 'db1')"
   ]
  },
  {
   "cell_type": "code",
   "execution_count": 4,
   "id": "fc527d5f-d27b-46f0-8b22-077b20af29b9",
   "metadata": {},
   "outputs": [
    {
     "data": {
      "text/plain": [
       "array([-0.70710678, -0.70710678])"
      ]
     },
     "execution_count": 4,
     "metadata": {},
     "output_type": "execute_result"
    }
   ],
   "source": [
    "cD"
   ]
  },
  {
   "cell_type": "code",
   "execution_count": null,
   "id": "3fb14d24-4888-43ec-891e-4595b075cb4a",
   "metadata": {},
   "outputs": [],
   "source": []
  }
 ],
 "metadata": {
  "kernelspec": {
   "display_name": "Python 3 (ipykernel)",
   "language": "python",
   "name": "python3"
  },
  "language_info": {
   "codemirror_mode": {
    "name": "ipython",
    "version": 3
   },
   "file_extension": ".py",
   "mimetype": "text/x-python",
   "name": "python",
   "nbconvert_exporter": "python",
   "pygments_lexer": "ipython3",
   "version": "3.9.1"
  }
 },
 "nbformat": 4,
 "nbformat_minor": 5
}

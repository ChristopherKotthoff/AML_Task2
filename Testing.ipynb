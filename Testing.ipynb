{
 "cells": [
  {
   "cell_type": "code",
   "execution_count": 1,
   "id": "dd832c08-3f84-4888-b13c-136046d66c92",
   "metadata": {},
   "outputs": [
    {
     "ename": "ImportError",
     "evalue": "cannot import name 'ldData' from 'chris' (c:\\Users\\Chris\\Desktop\\AML_Task2\\chris.py)",
     "output_type": "error",
     "traceback": [
      "\u001b[1;31m---------------------------------------------------------------------------\u001b[0m",
      "\u001b[1;31mImportError\u001b[0m                               Traceback (most recent call last)",
      "\u001b[1;32m<ipython-input-1-ddba71f1d16a>\u001b[0m in \u001b[0;36m<module>\u001b[1;34m\u001b[0m\n\u001b[0;32m      2\u001b[0m \u001b[1;32mimport\u001b[0m \u001b[0mnumpy\u001b[0m \u001b[1;32mas\u001b[0m \u001b[0mnp\u001b[0m\u001b[1;33m\u001b[0m\u001b[1;33m\u001b[0m\u001b[0m\n\u001b[0;32m      3\u001b[0m \u001b[1;32mfrom\u001b[0m \u001b[0mpipeline\u001b[0m \u001b[1;32mimport\u001b[0m \u001b[0mpipeline\u001b[0m\u001b[1;33m\u001b[0m\u001b[1;33m\u001b[0m\u001b[0m\n\u001b[1;32m----> 4\u001b[1;33m \u001b[1;32mfrom\u001b[0m \u001b[0mchris\u001b[0m \u001b[1;32mimport\u001b[0m \u001b[0mldData\u001b[0m\u001b[1;33m,\u001b[0m \u001b[0mmlpClassification\u001b[0m\u001b[1;33m\u001b[0m\u001b[1;33m\u001b[0m\u001b[0m\n\u001b[0m",
      "\u001b[1;31mImportError\u001b[0m: cannot import name 'ldData' from 'chris' (c:\\Users\\Chris\\Desktop\\AML_Task2\\chris.py)"
     ]
    }
   ],
   "source": [
    "import pipeline\n",
    "import numpy as np\n",
    "from pipeline import pipeline\n",
    "from chris import ldData, mlpClassification"
   ]
  },
  {
   "cell_type": "code",
   "execution_count": 2,
   "id": "3e185ce6-08b2-49cd-9cea-37d61c63c3d3",
   "metadata": {},
   "outputs": [
    {
     "name": "stdout",
     "output_type": "stream",
     "text": [
      "No saved state found. Starting from beginning\n",
      "{'a': 1, 'b': 2, 'c': 3, 'X_train': array([[ -13.,   -9.,   -6., ...,   nan,   nan,   nan],\n",
      "       [ -34.,  110.,  249., ...,   nan,   nan,   nan],\n",
      "       [ -34.,  -36.,  -37., ...,   nan,   nan,   nan],\n",
      "       ...,\n",
      "       [ -95., -110., -124., ...,   nan,   nan,   nan],\n",
      "       [ -50.,  -48.,  -45., ...,   nan,   nan,   nan],\n",
      "       [  66.,   65.,   63., ...,   nan,   nan,   nan]], dtype=float32), 'y_train': array([[0],\n",
      "       [0],\n",
      "       [0],\n",
      "       ...,\n",
      "       [0],\n",
      "       [0],\n",
      "       [2]], dtype=uint32), 'X_test': array([[  73.,   73.,   73., ...,   nan,   nan,   nan],\n",
      "       [-100.,  -97.,  -95., ...,   nan,   nan,   nan],\n",
      "       [-571., -656., -756., ...,   nan,   nan,   nan],\n",
      "       ...,\n",
      "       [ -42.,  -38.,  -34., ...,   nan,   nan,   nan],\n",
      "       [  12.,    8.,    4., ...,   nan,   nan,   nan],\n",
      "       [1249., 1263., 1281., ...,   nan,   nan,   nan]], dtype=float32)}\n"
     ]
    }
   ],
   "source": [
    "hyperparameter_dictionary = {}\n",
    "final_data_dict = pipeline([ldData],hyperparameter_dictionary)\n",
    "print(final_data_dict)"
   ]
  }
 ],
 "metadata": {
  "kernelspec": {
   "display_name": "Python 3.9.0 64-bit",
   "language": "python",
   "name": "python3"
  },
  "language_info": {
   "codemirror_mode": {
    "name": "ipython",
    "version": 3
   },
   "file_extension": ".py",
   "mimetype": "text/x-python",
   "name": "python",
   "nbconvert_exporter": "python",
   "pygments_lexer": "ipython3",
   "version": "3.9.0"
  },
  "vscode": {
   "interpreter": {
    "hash": "4cf03a2963743c57c72d8ba6632c2081b501cae1666301abc782d21392c9048f"
   }
  }
 },
 "nbformat": 4,
 "nbformat_minor": 5
}

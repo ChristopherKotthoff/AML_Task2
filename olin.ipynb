{
 "cells": [
  {
   "cell_type": "markdown",
   "id": "d6a1f297-e4d7-432d-b41b-f9433e868071",
   "metadata": {},
   "source": [
    "## Implementation of a stacked Classifier"
   ]
  },
  {
   "cell_type": "code",
   "execution_count": 24,
   "id": "e8c2e770-1105-416a-a5d7-558593332b2b",
   "metadata": {},
   "outputs": [],
   "source": []
  },
  {
   "cell_type": "markdown",
   "id": "7e61772d-cf48-4844-886e-ff247dafb4ca",
   "metadata": {},
   "source": [
    "## Evaluating the Model"
   ]
  },
  {
   "cell_type": "code",
   "execution_count": 1,
   "id": "72100107-5141-4535-9447-8f8a878f0baa",
   "metadata": {},
   "outputs": [],
   "source": [
    "from pipeline import pipeline\n",
    "from chris import ldData, mlpClassification, makeTrainValSet, balanceStupid, NO_DISPLAY_savePred\n",
    "from olin import stackedClassification\n",
    "from operator import itemgetter\n",
    "import matplotlib.pyplot as plt\n",
    "import numpy as np\n",
    "from heinrich import inv, crop, ecgExtract, rfClassification\n",
    "from anova import anova"
   ]
  },
  {
   "cell_type": "code",
   "execution_count": null,
   "id": "31c26232-019c-4984-9671-3269d164d6fa",
   "metadata": {},
   "outputs": [
    {
     "name": "stdout",
     "output_type": "stream",
     "text": [
      "[Pipeline] Saved state found: ./cache/ldData()_crop(300)_inv(0.6)_ecgExtract()_makeTrainValSet(0.1), starting from function: stackedClassification\n",
      "[Pipeline] executing: stackedClassification(True,False)\n"
     ]
    },
    {
     "name": "stderr",
     "output_type": "stream",
     "text": [
      "/usr/local/share/miniconda/lib/python3.9/site-packages/sklearn/preprocessing/_label.py:98: DataConversionWarning: A column-vector y was passed when a 1d array was expected. Please change the shape of y to (n_samples, ), for example using ravel().\n",
      "  y = column_or_1d(y, warn=True)\n",
      "/usr/local/share/miniconda/lib/python3.9/site-packages/sklearn/preprocessing/_label.py:133: DataConversionWarning: A column-vector y was passed when a 1d array was expected. Please change the shape of y to (n_samples, ), for example using ravel().\n",
      "  y = column_or_1d(y, warn=True)\n",
      "/usr/local/share/miniconda/lib/python3.9/site-packages/sklearn/svm/_base.py:1225: ConvergenceWarning: Liblinear failed to converge, increase the number of iterations.\n",
      "  warnings.warn(\n"
     ]
    }
   ],
   "source": [
    "\n",
    "hyper = { \n",
    "    \n",
    "    \"inv_threshold\": 0.6, \n",
    "    \"crop_location\": 300,\n",
    "    \"mlpClassification_epochs\": 200,\n",
    "    \"mlpClassification_useValidationSet\": True,\n",
    "    \"mlpClassification_makePrediction\": False,\n",
    "    \"makeTrainValSet_valPercent\": 0.1,\n",
    "    \"rfClassification_depth\": 3,\n",
    "    \"rfClassification_useValidationSet\": True,\n",
    "    \"rfClassification_makePrediction\": False,\n",
    "    \"anova_percentage\": 0.7,\n",
    "    \"stackedClf_useValidationSet\": True,\n",
    "    \"stackedClf_makePrediction\": False,\n",
    "    \"used_cached_stats\": True\n",
    "    \n",
    "}\n",
    "\n",
    "data = pipeline([ ldData, crop, inv, ecgExtract, makeTrainValSet, stackedClassification ], hyper, save_states_to_cache=True)\n",
    "print( \"train losses\" )\n",
    "data[\"train_losses\"]\n",
    "print( \"val losses\" )\n",
    "data[\"val_losses\"]"
   ]
  },
  {
   "cell_type": "code",
   "execution_count": null,
   "id": "9d80f8b9-93af-4ecc-8495-ba9deed69192",
   "metadata": {},
   "outputs": [],
   "source": [
    "data[\"train_losses\"]"
   ]
  },
  {
   "cell_type": "code",
   "execution_count": null,
   "id": "7563877a-e04b-49c5-8db9-2c60bcce4843",
   "metadata": {},
   "outputs": [],
   "source": [
    "data[\"val_losses\"]"
   ]
  },
  {
   "cell_type": "code",
   "execution_count": null,
   "id": "5065e871-2fa6-4dec-9033-7c762aa4f797",
   "metadata": {},
   "outputs": [],
   "source": [
    "from olin_utils import confMat\n",
    "_, misclass = confMat( data[ \"y_val_hat\" ], np.transpose( data[ \"y_val\" ])[ 0 ], visualize = True )"
   ]
  },
  {
   "cell_type": "code",
   "execution_count": null,
   "id": "46aa86dc-fd92-4db4-a5ae-5771f6915d19",
   "metadata": {},
   "outputs": [],
   "source": []
  },
  {
   "cell_type": "code",
   "execution_count": null,
   "id": "0a8e622a-2653-4db2-bf05-a14b2144c441",
   "metadata": {},
   "outputs": [],
   "source": []
  },
  {
   "cell_type": "code",
   "execution_count": 143,
   "id": "7747a498-f47f-4d54-ad19-248b59cf13d7",
   "metadata": {},
   "outputs": [],
   "source": []
  }
 ],
 "metadata": {
  "kernelspec": {
   "display_name": "Python 3 (ipykernel)",
   "language": "python",
   "name": "python3"
  },
  "language_info": {
   "codemirror_mode": {
    "name": "ipython",
    "version": 3
   },
   "file_extension": ".py",
   "mimetype": "text/x-python",
   "name": "python",
   "nbconvert_exporter": "python",
   "pygments_lexer": "ipython3",
   "version": "3.9.1"
  }
 },
 "nbformat": 4,
 "nbformat_minor": 5
}
